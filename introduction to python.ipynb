{
 "cells": [
  {
   "cell_type": "markdown",
   "id": "7ad7186a",
   "metadata": {},
   "source": [
    "# Introduction to Python"
   ]
  },
  {
   "cell_type": "markdown",
   "id": "57d8dcfa",
   "metadata": {},
   "source": [
    "Variables, Names, and Objects"
   ]
  },
  {
   "cell_type": "code",
   "execution_count": 6,
   "id": "9bea7ed0",
   "metadata": {},
   "outputs": [
    {
     "name": "stdout",
     "output_type": "stream",
     "text": [
      "7\n",
      "7\n"
     ]
    },
    {
     "data": {
      "text/plain": [
       "str"
      ]
     },
     "execution_count": 6,
     "metadata": {},
     "output_type": "execute_result"
    }
   ],
   "source": [
    "a = 7 \n",
    "print(a)\n",
    "#The integer value 7 is assigned to the variables named (a).\n",
    "b = a\n",
    "print(b)\n",
    "#The variable (b) is assigned to variable (a).\n",
    "type(a)\n",
    "#The \"type\" function helps reveal the class of the variable value.\n",
    "type(99.9)\n",
    "type('abc')\n",
    "# Variables with values without decimals are \"integers,\"\n",
    "# with decimals \"float,\" and letters are string values. "
   ]
  },
  {
   "cell_type": "code",
   "execution_count": 18,
   "id": "cfac1cce",
   "metadata": {},
   "outputs": [
    {
     "data": {
      "text/plain": [
       "14"
      ]
     },
     "execution_count": 18,
     "metadata": {},
     "output_type": "execute_result"
    }
   ],
   "source": [
    "5+9, 100-7, 4-10, 6*7*2*3, 9//5, 9/5,\n",
    "#With division a single \"/\" will reflect a \"float\" value,\n",
    "#and \"//\" will exclude the decimal and give an integer value.\n",
    "9%5\n",
    "#This \"%\" function gives the remainder to the second number. \"4\"\n",
    "divmod(9,5)\n",
    "#\"divmod\" divides the two numbers but gives an integer value, the\n",
    "#second value is the remainder. 5-4 = 1. The end result is called a tuple.\n",
    "2 + (3*4)\n",
    "#BIDMAS"
   ]
  },
  {
   "cell_type": "code",
   "execution_count": 3,
   "id": "5cd06dd8",
   "metadata": {},
   "outputs": [
    {
     "data": {
      "text/plain": [
       "(98, 10000, 98.0, 99.0)"
      ]
     },
     "execution_count": 3,
     "metadata": {},
     "output_type": "execute_result"
    }
   ],
   "source": [
    "int(98.6), int(1.0e4), float(98), float(99)\n",
    "#The \"int\" and \"float\" will change the value into either an\n",
    "#integer or float. "
   ]
  },
  {
   "cell_type": "code",
   "execution_count": 9,
   "id": "9f8c1bdf",
   "metadata": {},
   "outputs": [
    {
     "name": "stdout",
     "output_type": "stream",
     "text": [
      "There was a Young Lady of Norway,\n",
      "Who usually sat in a doorway;\n",
      "When the door squeezed her flat,\n",
      "She exclaimed, \"What of that?\"\n",
      "This courageous Young Lady of Norway.\n"
     ]
    }
   ],
   "source": [
    "poem1 = '''There was a Young Lady of Norway,\n",
    "Who usually sat in a doorway;\n",
    "When the door squeezed her flat,\n",
    "She exclaimed, \"What of that?\"\n",
    "This courageous Young Lady of Norway.'''\n",
    "#We can make string values using single quotes, double quotes\n",
    "#and triple quotation marks. Triple quotation marks as seen in this \n",
    "#example is used in multiline strings.\n",
    "print(poem1)"
   ]
  },
  {
   "cell_type": "code",
   "execution_count": 15,
   "id": "5c7d9f8e",
   "metadata": {},
   "outputs": [
    {
     "name": "stdout",
     "output_type": "stream",
     "text": [
      "Duck. Duck. Grey Duck!\n"
     ]
    }
   ],
   "source": [
    "'Release the kraken!' + 'No, wait!'\n",
    "a = \"Duck.\" \n",
    "b = a \n",
    "c = \"Grey Duck!\"\n",
    "print(a,b,c)\n",
    "#This \"+\" combines strings/ string variables."
   ]
  },
  {
   "cell_type": "code",
   "execution_count": 18,
   "id": "9164a9bf",
   "metadata": {},
   "outputs": [
    {
     "name": "stdout",
     "output_type": "stream",
     "text": [
      "NaNaNaNa\n",
      "NaNaNaNa\n",
      "HeyHeyHey\n",
      "Goodbye.\n"
     ]
    }
   ],
   "source": [
    "start = 'Na' * 4 + '\\n'\n",
    "middle = 'Hey' * 3 + '\\n'\n",
    "end = 'Goodbye.'\n",
    "print(start + start + middle + end)\n",
    "#The \"*\" function can be used to duplicate the word in our \n",
    "#example \"Na\" 4x \"'\\n'\" is used to begin a new line."
   ]
  },
  {
   "cell_type": "code",
   "execution_count": 4,
   "id": "a21b1ae0",
   "metadata": {},
   "outputs": [
    {
     "data": {
      "text/plain": [
       "'z'"
      ]
     },
     "execution_count": 4,
     "metadata": {},
     "output_type": "execute_result"
    }
   ],
   "source": [
    "letters = 'abcdefghijklmnopqrstuvwxyz'\n",
    "letters[0]\n",
    "letters[-6]\n",
    "letters[-1]\n",
    "#To get the leftmost offset it is 0, and so on. However, for\n",
    "#the last righmost offset, minus numbers can be specified. "
   ]
  },
  {
   "cell_type": "code",
   "execution_count": 26,
   "id": "47f64c49",
   "metadata": {},
   "outputs": [
    {
     "data": {
      "text/plain": [
       "26"
      ]
     },
     "execution_count": 26,
     "metadata": {},
     "output_type": "execute_result"
    }
   ],
   "source": [
    "name = 'Henny'\n",
    "name.replace('H', 'P')\n",
    "letters[:]\n",
    "letters[20:], letters[10:], letters[12:15], letters[-3:]\n",
    "letters[18:-3], letters[-6:-2], letters[::7], letters[4:20:3]\n",
    "letters[:21:5], letters[::-1], letters[:5]\n",
    "# \":\" extracts the entire sequence, \"start: e.g., 20:\" specifies,\n",
    "# from the 20th letter onwards. \":end e.g. :5\" specifies \n",
    "# the 1st to 5th letters\n",
    "# [start:end] indicates start offset to end offset minus 1.\n",
    "# [start:end:step] extracts from start offset, to the end offset\n",
    "# minus 1, skipping characters by step. \n",
    "len(letters)\n",
    "# \"len\" is used to count the characters in a string"
   ]
  },
  {
   "cell_type": "code",
   "execution_count": 29,
   "id": "1ca33404",
   "metadata": {},
   "outputs": [
    {
     "name": "stdout",
     "output_type": "stream",
     "text": [
      "get gloves, get mask, give cat vitamins, call ambulance ['Yeti', 'Bigfoot', 'Loch Ness Monster']\n"
     ]
    }
   ],
   "source": [
    "todos = 'get gloves, get mask, give cat vitamins, call ambulance'\n",
    "todos.split(',')\n",
    "crypto_list = ['Yeti', 'Bigfoot', 'Loch Ness Monster']\n",
    "print(todos, crypto_list)"
   ]
  },
  {
   "cell_type": "code",
   "execution_count": 40,
   "id": "5e730602",
   "metadata": {},
   "outputs": [
    {
     "data": {
      "text/plain": [
       "(73, 213, False, 3)"
      ]
     },
     "execution_count": 40,
     "metadata": {},
     "output_type": "execute_result"
    }
   ],
   "source": [
    "poem = \"\"\"All that doth flow we cannot liquid name\n",
    "Or else would fire and water be the same\n",
    "But that is liquid which is moist and wet\n",
    "Fire that property can never get.\n",
    "Then 'tis not cold that doth the fire put out\n",
    "But 'tis the wet that makes it die, no doubt.\"\"\"\n",
    "poem[:13]\n",
    "len(poem), poem.startswith('All'), poem.endswith('Thats all folks)')\n",
    "word = 'the'\n",
    "poem.find(word), poem.rfind(word), poem.isalnum(), poem.count(word)\n",
    "# The first command specifies the occurrence of the word 'the'\n",
    "# the second command specifies the last position of the word 'the'\n",
    "# the next command shows whether the characters in the poem is either \n",
    "# letters or numbers. The last command shows the count of the word 'the'"
   ]
  },
  {
   "cell_type": "code",
   "execution_count": 51,
   "id": "fdaa9131",
   "metadata": {},
   "outputs": [
    {
     "data": {
      "text/plain": [
       "'a famous duck goes into a famous ba famousr....'"
      ]
     },
     "execution_count": 51,
     "metadata": {},
     "output_type": "execute_result"
    }
   ],
   "source": [
    "setup = 'a duck goes into a bar....'\n",
    "setup.strip('.')\n",
    "#This command removes the eclipses at the end of the sentence\n",
    "setup.capitalize()\n",
    "setup.upper()\n",
    "setup.lower()\n",
    "setup.center(30)\n",
    "#Here the string is centred within 30 spaces\n",
    "setup.ljust(30) #Here the string is centred 30 spaces from the left\n",
    "setup.rjust(30) #Here the string is centred 30 spaces from the right\n",
    "setup.replace('duck', 'marmoset')\n",
    "#Here the word duck is replaced with marmoset. \n",
    "setup.replace('a', 'a famous', 100)"
   ]
  },
  {
   "cell_type": "markdown",
   "id": "41009544",
   "metadata": {},
   "source": [
    "# Chapter 3\n",
    "Lists & Tuples"
   ]
  },
  {
   "cell_type": "code",
   "execution_count": 3,
   "id": "b79234d0",
   "metadata": {},
   "outputs": [],
   "source": [
    "empty_list = []\n",
    "weekdays = ['monday', 'tuesday', 'wednesday', 'thursday', 'friday']\n",
    "big_birds = ['emu', 'ostrich', 'cassowary']\n",
    "first_names = ['Graham', 'John', 'Terry', 'Terry', 'Michael']"
   ]
  },
  {
   "cell_type": "code",
   "execution_count": 5,
   "id": "fdbf0f96",
   "metadata": {},
   "outputs": [
    {
     "data": {
      "text/plain": [
       "['c', 'a', 't']"
      ]
     },
     "execution_count": 5,
     "metadata": {},
     "output_type": "execute_result"
    }
   ],
   "source": [
    "#in the example below a string is converted into a list\n",
    "list('cat')"
   ]
  },
  {
   "cell_type": "code",
   "execution_count": 6,
   "id": "840975ba",
   "metadata": {},
   "outputs": [
    {
     "data": {
      "text/plain": [
       "['ready', 'fire', 'aim']"
      ]
     },
     "execution_count": 6,
     "metadata": {},
     "output_type": "execute_result"
    }
   ],
   "source": [
    "#in this example we demonstrate a tuple\n",
    "a_tuple = ('ready', 'fire', 'aim')\n",
    "list(a_tuple)"
   ]
  },
  {
   "cell_type": "code",
   "execution_count": 7,
   "id": "dc7aa574",
   "metadata": {},
   "outputs": [
    {
     "data": {
      "text/plain": [
       "['1', '6', '1952']"
      ]
     },
     "execution_count": 7,
     "metadata": {},
     "output_type": "execute_result"
    }
   ],
   "source": [
    "#the \"/\" can be used to split/ chop a string into a list \n",
    "birthday = '1/6/1952'\n",
    "birthday.split('/')"
   ]
  },
  {
   "cell_type": "code",
   "execution_count": 11,
   "id": "056b5e8c",
   "metadata": {},
   "outputs": [
    {
     "data": {
      "text/plain": [
       "'Harpo'"
      ]
     },
     "execution_count": 11,
     "metadata": {},
     "output_type": "execute_result"
    }
   ],
   "source": [
    "#here we extract a single value from a list by specifying its offset:\n",
    "marxes = ['Groucho', 'Chico', 'Harpo']\n",
    "marxes[0]\n",
    "marxes[2]"
   ]
  },
  {
   "cell_type": "code",
   "execution_count": 36,
   "id": "6b7daccc",
   "metadata": {},
   "outputs": [
    {
     "ename": "NameError",
     "evalue": "name 'marxes' is not defined",
     "output_type": "error",
     "traceback": [
      "\u001b[1;31m---------------------------------------------------------------------------\u001b[0m",
      "\u001b[1;31mNameError\u001b[0m                                 Traceback (most recent call last)",
      "\u001b[1;32m~\\AppData\\Local\\Temp\\ipykernel_19548\\982337302.py\u001b[0m in \u001b[0;36m<module>\u001b[1;34m\u001b[0m\n\u001b[0;32m      1\u001b[0m \u001b[1;31m#changing an item by offset\u001b[0m\u001b[1;33m\u001b[0m\u001b[1;33m\u001b[0m\u001b[0m\n\u001b[1;32m----> 2\u001b[1;33m \u001b[0mmarxes\u001b[0m\u001b[1;33m[\u001b[0m\u001b[1;36m2\u001b[0m\u001b[1;33m]\u001b[0m \u001b[1;33m=\u001b[0m \u001b[1;34m'Wanda'\u001b[0m\u001b[1;33m\u001b[0m\u001b[1;33m\u001b[0m\u001b[0m\n\u001b[0m\u001b[0;32m      3\u001b[0m \u001b[1;31m#we can add an item at the end\u001b[0m\u001b[1;33m\u001b[0m\u001b[1;33m\u001b[0m\u001b[0m\n\u001b[0;32m      4\u001b[0m \u001b[0mmarxes\u001b[0m\u001b[1;33m.\u001b[0m\u001b[0mappend\u001b[0m\u001b[1;33m(\u001b[0m\u001b[1;34m'Zeppo'\u001b[0m\u001b[1;33m)\u001b[0m\u001b[1;33m\u001b[0m\u001b[1;33m\u001b[0m\u001b[0m\n\u001b[0;32m      5\u001b[0m \u001b[1;31m#here we can merge/ extend lists\u001b[0m\u001b[1;33m\u001b[0m\u001b[1;33m\u001b[0m\u001b[0m\n",
      "\u001b[1;31mNameError\u001b[0m: name 'marxes' is not defined"
     ]
    }
   ],
   "source": [
    "#changing an item by offset\n",
    "marxes[2] = 'Wanda'\n",
    "#we can add an item at the end\n",
    "marxes.append('Zeppo')\n",
    "#here we can merge/ extend lists\n",
    "others = ['Gummo', 'Karl']\n",
    "marxes.extend(others) # alternatively marxes \"\"+=\"\" others could be used. \n",
    "\n",
    "#here we add an item by offset to the position we want it in. \n",
    "marxes.insert(3, 'Gummo')\n",
    "marxes\n",
    "#delete an item by offset \n",
    "del marxes[-1]\n",
    "marxes.remove('Gummo')"
   ]
  },
  {
   "cell_type": "code",
   "execution_count": 45,
   "id": "1949497a",
   "metadata": {},
   "outputs": [
    {
     "data": {
      "text/plain": [
       "False"
      ]
     },
     "execution_count": 45,
     "metadata": {},
     "output_type": "execute_result"
    }
   ],
   "source": [
    "#here we delete an item from a list \n",
    "marxes = ['Groucho', 'Chico', 'Harpo', 'Zeppo']\n",
    "marxes.pop(1)\n",
    "marxes\n",
    "#if we want to know the offset of an item in a list by its value, use index()\n",
    "marxes.index('Groucho')\n",
    "#we can also check to see if there is an existing item in the list \n",
    "'Groucho' in marxes\n",
    "'Bob' in marxes\n"
   ]
  },
  {
   "cell_type": "code",
   "execution_count": 50,
   "id": "2a17153b",
   "metadata": {},
   "outputs": [
    {
     "data": {
      "text/plain": [
       "3"
      ]
     },
     "execution_count": 50,
     "metadata": {},
     "output_type": "execute_result"
    }
   ],
   "source": [
    "#here we are able to sort numbers out in ascending and descending order. \n",
    "numbers = [2,1,4.0,3]\n",
    "numbers.sort()\n",
    "numbers.sort(reverse = True)\n",
    "numbers\n",
    "len(marxes) #here we are able to get the length of the items "
   ]
  },
  {
   "cell_type": "markdown",
   "id": "e0c560be",
   "metadata": {},
   "source": [
    "# Dictionaires"
   ]
  },
  {
   "cell_type": "code",
   "execution_count": 53,
   "id": "3cfd1bd6",
   "metadata": {},
   "outputs": [
    {
     "data": {
      "text/plain": [
       "{'day': 'A period of twenty-four hours, mostly misspent',\n",
       " 'positive': \"Mistaken at the top of one's voice\",\n",
       " 'misfortune': 'The kind of fortune that never misses'}"
      ]
     },
     "execution_count": 53,
     "metadata": {},
     "output_type": "execute_result"
    }
   ],
   "source": [
    "bierce = {'day': \"A period of twenty-four hours, mostly misspent\",\n",
    "         'positive': \"Mistaken at the top of one's voice\",\n",
    "         'misfortune': 'The kind of fortune that never misses',}\n",
    "bierce"
   ]
  },
  {
   "cell_type": "code",
   "execution_count": 56,
   "id": "96a1d645",
   "metadata": {},
   "outputs": [
    {
     "name": "stdout",
     "output_type": "stream",
     "text": [
      "martini\n",
      "black russian\n",
      "white russian\n",
      "screwdriver\n",
      "black russian\n",
      "screwdriver\n"
     ]
    }
   ],
   "source": [
    "#test for value by using in \n",
    "drinks = {'martini': {'vodka', 'vermouth'},\n",
    "         'black russian': {'vodka', 'kahlua'},\n",
    "         'white russian': {'cream', 'Kahlua', 'vodka'},\n",
    "         'manhattan': {'rye', 'vermouth', 'bitters'},\n",
    "         'screwdriver': {'orange juice', 'vodka'}}\n",
    "\n",
    "for name, contents in drinks.items():\n",
    "    if 'vodka' in contents:\n",
    "        print(name)\n",
    "        \n",
    "for name, contents in drinks.items():\n",
    "    if 'vodka' in contents and not ('vermouth' in contents or \n",
    "                                   'cream' in contents):\n",
    "        print(name)"
   ]
  },
  {
   "cell_type": "code",
   "execution_count": 57,
   "id": "f52aa404",
   "metadata": {},
   "outputs": [
    {
     "name": "stdout",
     "output_type": "stream",
     "text": [
      "Woe!\n"
     ]
    }
   ],
   "source": [
    "\n",
    "disaster = True\n",
    "if disaster:\n",
    "    print('Woe!')\n",
    "else:\n",
    "    print('Whee!')\n"
   ]
  },
  {
   "cell_type": "code",
   "execution_count": 61,
   "id": "921a0b81",
   "metadata": {},
   "outputs": [
    {
     "name": "stdout",
     "output_type": "stream",
     "text": [
      "it's a cat.\n"
     ]
    }
   ],
   "source": [
    "furry = True\n",
    "small = True\n",
    "if furry:\n",
    "    if small:\n",
    "        print(\"it's a cat.\")\n",
    "    else: \n",
    "            print(\"it's a bear!\")\n",
    "else:\n",
    "    if small: \n",
    "        print(\"it's a skink!\")\n",
    "    else: \n",
    "        print(\"it's a human. Or a hairless bear.\")"
   ]
  },
  {
   "cell_type": "code",
   "execution_count": 62,
   "id": "17013678",
   "metadata": {},
   "outputs": [
    {
     "name": "stdout",
     "output_type": "stream",
     "text": [
      "I've never heard of the colour puce\n"
     ]
    }
   ],
   "source": [
    "color = \"puce\"\n",
    "if color == \"red\":\n",
    "    print(\"it's a tomato\")\n",
    "elif color == \"green\":\n",
    "    print(\"it's a green pepper\")\n",
    "elif color == \"bee purple\":\n",
    "    print(\"I don't know what it is, but only bees can see it\")\n",
    "else:\n",
    "    print(\"I've never heard of the colour\", color)"
   ]
  },
  {
   "cell_type": "code",
   "execution_count": 63,
   "id": "97eed7d5",
   "metadata": {},
   "outputs": [
    {
     "name": "stdout",
     "output_type": "stream",
     "text": [
      "Hey, it's empty\n"
     ]
    }
   ],
   "source": [
    "some_list = []\n",
    "if some_list:\n",
    "    print(\"There's something in here\")\n",
    "else:\n",
    "    print(\"Hey, it's empty\")"
   ]
  },
  {
   "cell_type": "code",
   "execution_count": 66,
   "id": "b0cde2ee",
   "metadata": {},
   "outputs": [
    {
     "name": "stdout",
     "output_type": "stream",
     "text": [
      "o is a vowel\n"
     ]
    }
   ],
   "source": [
    "letter = 'o'\n",
    "if letter == 'a' or letter == 'e' or letter == 'i' \\\n",
    "    or letter == 'o' or letter == 'u':\n",
    "    print(letter, \"is a vowel\")\n",
    "else: \n",
    "    print(letter, \"it's not a vowel\")\n"
   ]
  },
  {
   "cell_type": "code",
   "execution_count": 68,
   "id": "4b24868f",
   "metadata": {},
   "outputs": [
    {
     "name": "stdout",
     "output_type": "stream",
     "text": [
      "o is a vowel\n"
     ]
    }
   ],
   "source": [
    "vowels = 'aeiou'\n",
    "letter = 'o'\n",
    "letter in vowels\n",
    "if letter in vowels:\n",
    "    print(letter, 'is a vowel')"
   ]
  },
  {
   "cell_type": "code",
   "execution_count": 1,
   "id": "c7ffadae",
   "metadata": {},
   "outputs": [
    {
     "name": "stdout",
     "output_type": "stream",
     "text": [
      "1\n",
      "2\n",
      "3\n",
      "4\n",
      "5\n"
     ]
    }
   ],
   "source": [
    "#here the value 1 is assigned to 'count' and the while loop compares the value of count to 5.\n",
    "count = 1\n",
    "while count <=5:\n",
    "    print(count)\n",
    "    count +=1"
   ]
  },
  {
   "cell_type": "code",
   "execution_count": 4,
   "id": "b14d19ea",
   "metadata": {},
   "outputs": [
    {
     "name": "stdout",
     "output_type": "stream",
     "text": [
      "string to capitalise [type Q to quit]:yes\n",
      "Yes\n",
      "string to capitalise [type Q to quit]:Q\n"
     ]
    }
   ],
   "source": [
    "while True:\n",
    "    stuff = input(\"string to capitalise [type Q to quit]:\")\n",
    "    if stuff == \"Q\":\n",
    "        break\n",
    "    print(stuff.capitalize())"
   ]
  },
  {
   "cell_type": "code",
   "execution_count": 8,
   "id": "87622783",
   "metadata": {},
   "outputs": [
    {
     "name": "stdout",
     "output_type": "stream",
     "text": [
      "Integer, please [Q to quit]:5\n",
      "5 squared is 25\n",
      "Integer, please [Q to quit]:Q\n"
     ]
    }
   ],
   "source": [
    "#here we don't break out of the loop, we only skip ahead to the next iteration. \n",
    "while True:\n",
    "    value = input(\"Integer, please [Q to quit]:\")\n",
    "    if value == \"Q\": #Quit\n",
    "        break\n",
    "    number = int(value)\n",
    "    if number % 2 == 0: #an even number\n",
    "        continue\n",
    "    print(number, \"squared is\", number*number)"
   ]
  },
  {
   "cell_type": "code",
   "execution_count": null,
   "id": "5a1e0fd8",
   "metadata": {},
   "outputs": [],
   "source": [
    "numbers = [1, 3, 5]\n",
    "position = 0\n",
    "while position < len(numbers):\n",
    "    number = numbers[position]\n",
    "    if number % 2==0:\n",
    "        print('Found even number', number)\n",
    "        break\n",
    "    position += 1\n",
    "else:\n",
    "    print('No even number found')"
   ]
  },
  {
   "cell_type": "code",
   "execution_count": 7,
   "id": "0a06b30c",
   "metadata": {},
   "outputs": [
    {
     "name": "stdout",
     "output_type": "stream",
     "text": [
      "Flopsy\n",
      "Mopsy\n",
      "Cottontail\n",
      "Peter\n",
      "person\n",
      "person\n",
      "person\n",
      "ballroom\n",
      "lead pipe\n",
      "Col.Mustard\n"
     ]
    }
   ],
   "source": [
    "rabbits = ['Flopsy', 'Mopsy', 'Cottontail', 'Peter']\n",
    "current = 0\n",
    "while current < len(rabbits):\n",
    "    print(rabbits[current])\n",
    "    current += 1\n",
    "# for rabbit in rabbits:\n",
    "#  print(rabbit)\n",
    "accusation = {'room': 'ballroom', 'weapon': 'lead pipe', 'person': 'Col.Mustard'}\n",
    "for card in accusation:\n",
    "    print(room)\n",
    "for value in accusation.values():\n",
    "    print(value)"
   ]
  },
  {
   "cell_type": "code",
   "execution_count": 9,
   "id": "e4a2fbcf",
   "metadata": {},
   "outputs": [
    {
     "name": "stdout",
     "output_type": "stream",
     "text": [
      "This is not much of a cheese shop is it?\n"
     ]
    }
   ],
   "source": [
    "cheeses = []\n",
    "for cheese in cheeses:\n",
    "    print('This shop has some lovely', cheese)\n",
    "    break\n",
    "else:\n",
    "    print('This is not much of a cheese shop is it?')\n",
    "    "
   ]
  },
  {
   "cell_type": "code",
   "execution_count": 10,
   "id": "333b0496",
   "metadata": {},
   "outputs": [
    {
     "name": "stdout",
     "output_type": "stream",
     "text": [
      "This is not much of a cheese shop, is it?\n"
     ]
    }
   ],
   "source": [
    "cheeses = []\n",
    "found_one = False \n",
    "for cheese in cheeses:\n",
    "    found_one = True\n",
    "    print('This shop has some lovely', cheese)\n",
    "    break\n",
    "if not found_one:\n",
    "    print('This is not much of a cheese shop, is it?')"
   ]
  },
  {
   "cell_type": "code",
   "execution_count": 12,
   "id": "3cc83571",
   "metadata": {},
   "outputs": [
    {
     "name": "stdout",
     "output_type": "stream",
     "text": [
      "Monday :drink coffee -eat banana -enjoy tiramisu\n",
      "Tuesday :drink tea -eat orange -enjoy ice-cream\n",
      "Wednesday :drink beer -eat peach -enjoy pie\n"
     ]
    }
   ],
   "source": [
    "#the zip() function iterates over multiple sequences in parallel. \n",
    "days = ['Monday', 'Tuesday', 'Wednesday']\n",
    "fruits = ['banana', 'orange', 'peach']\n",
    "drinks = ['coffee', 'tea', 'beer']\n",
    "desserts = ['tiramisu', 'ice-cream', 'pie', 'pudding']\n",
    "for day, fruit, drink, dessert in zip(days, fruits, drinks, desserts):\n",
    "    print(day, \":drink\", drink, \"-eat\", fruit, \"-enjoy\", dessert)"
   ]
  },
  {
   "cell_type": "code",
   "execution_count": 3,
   "id": "d2b0cd9a",
   "metadata": {},
   "outputs": [
    {
     "data": {
      "text/plain": [
       "{'Monday': 'Pazartesi', 'Tuesday': 'Sali', 'Wednesday': 'Carsamba'}"
      ]
     },
     "execution_count": 3,
     "metadata": {},
     "output_type": "execute_result"
    }
   ],
   "source": [
    "english = 'Monday', 'Tuesday', 'Wednesday'\n",
    "turkish = 'Pazartesi', 'Sali', 'Carsamba'\n",
    "list(zip(english, turkish))\n",
    "dict(zip(english, turkish))"
   ]
  },
  {
   "cell_type": "code",
   "execution_count": 7,
   "id": "71e8482f",
   "metadata": {},
   "outputs": [
    {
     "name": "stdout",
     "output_type": "stream",
     "text": [
      "0\n",
      "1\n",
      "2\n"
     ]
    },
    {
     "data": {
      "text/plain": [
       "[1, 3, 5]"
      ]
     },
     "execution_count": 7,
     "metadata": {},
     "output_type": "execute_result"
    }
   ],
   "source": [
    "for x in range(0,3):\n",
    "    print(x)\n",
    "list(range(0,3))\n",
    "list(range(0, 11, 2))\n",
    "a_list = [number for number in range(1,6) if number % 2 == 1]\n",
    "#this %2 == 1 shows that we want our values to be true when we\n",
    "#select odd values. \n",
    "a_list"
   ]
  },
  {
   "cell_type": "code",
   "execution_count": 11,
   "id": "65ceeafc",
   "metadata": {},
   "outputs": [
    {
     "name": "stdout",
     "output_type": "stream",
     "text": [
      "QUACK\n"
     ]
    }
   ],
   "source": [
    "word = 'letters'\n",
    "letter_counts = {letter:word.count(letter) for letter in set(word)}\n",
    "letter_counts\n",
    "def make_a_sound():\n",
    "    print('QUACK')\n",
    "make_a_sound()"
   ]
  },
  {
   "cell_type": "code",
   "execution_count": 18,
   "id": "3b8f5bcd",
   "metadata": {},
   "outputs": [
    {
     "name": "stdout",
     "output_type": "stream",
     "text": [
      "Splendid\n"
     ]
    },
    {
     "data": {
      "text/plain": [
       "'Rumplestiltskin Rumplestiltskin'"
      ]
     },
     "execution_count": 18,
     "metadata": {},
     "output_type": "execute_result"
    }
   ],
   "source": [
    "def agree():\n",
    "    return True\n",
    "if agree():\n",
    "    print('Splendid')\n",
    "else:\n",
    "    print('That was unexpected.')\n",
    " \n",
    "#this returns the statement to send the value of anything back to its caller\n",
    "#twice, with a space between/ you can do ','\n",
    "def echo(anything):\n",
    "    return anything + ' ' + anything\n",
    "echo('Rumplestiltskin')"
   ]
  },
  {
   "cell_type": "code",
   "execution_count": 30,
   "id": "6f553f8c",
   "metadata": {},
   "outputs": [
    {
     "name": "stdout",
     "output_type": "stream",
     "text": [
      "I've never heard of the color blue.\n"
     ]
    }
   ],
   "source": [
    "def commentary (color):\n",
    "    if color == 'red':\n",
    "        return \"It's a tomato.\"\n",
    "    elif color == \"green\":\n",
    "        return \"It's a green pepper\"\n",
    "    elif color == \"bee purple\":\n",
    "        return \"I don't know what it is, but only bees can see it.\"\n",
    "    else: \n",
    "        return \"I've never heard of the color \"  + color + \".\"\n",
    "comment = commentary('blue')\n",
    "print(comment)"
   ]
  },
  {
   "cell_type": "code",
   "execution_count": 35,
   "id": "98d95497",
   "metadata": {},
   "outputs": [
    {
     "name": "stdout",
     "output_type": "stream",
     "text": [
      "It's nothing\n"
     ]
    }
   ],
   "source": [
    "#None is a special python value that holds a place when there is nothing to say. \n",
    "thing = None\n",
    "if thing is None: \n",
    "    print(\"It's nothing\")\n",
    "else:\n",
    "    print(\"It's something\")"
   ]
  },
  {
   "cell_type": "code",
   "execution_count": 37,
   "id": "23327ad8",
   "metadata": {},
   "outputs": [
    {
     "data": {
      "text/plain": [
       "{'wine': 'chardonnay', 'entree': 'chicken', 'dessert': 'cake'}"
      ]
     },
     "execution_count": 37,
     "metadata": {},
     "output_type": "execute_result"
    }
   ],
   "source": [
    "def menu(wine, entree, dessert):\n",
    "    return {'wine': wine, 'entree': entree, 'dessert': dessert}\n",
    "menu('chardonnay', 'chicken', 'cake')"
   ]
  },
  {
   "cell_type": "code",
   "execution_count": 39,
   "id": "444b6b21",
   "metadata": {},
   "outputs": [
    {
     "name": "stdout",
     "output_type": "stream",
     "text": [
      "Need this one: cap\n",
      "Need this one too: gloves\n",
      "All the rest: ('scarf', 'monocle', 'moustache wax')\n"
     ]
    }
   ],
   "source": [
    "#if your our fucntion has required positional arguments *args\n",
    "#goes at the end and grabs all the rest: \n",
    "def print_more(required1, required2, *args):\n",
    "    print('Need this one:', required1)\n",
    "    print('Need this one too:', required2)\n",
    "    print('All the rest:', args)\n",
    "print_more('cap', 'gloves', 'scarf', 'monocle', 'moustache wax')"
   ]
  },
  {
   "cell_type": "code",
   "execution_count": 40,
   "id": "0b6c36c3",
   "metadata": {},
   "outputs": [
    {
     "name": "stdout",
     "output_type": "stream",
     "text": [
      "Position [Q to quit]? t\n",
      "Something else broke: invalid literal for int() with base 10: 't'\n",
      "Position [Q to quit]? 2\n",
      "3\n",
      "Position [Q to quit]? i\n",
      "Something else broke: invalid literal for int() with base 10: 'i'\n",
      "Position [Q to quit]? Q\n"
     ]
    }
   ],
   "source": [
    "short_list = [1,2,3]\n",
    "while True:\n",
    "    value = input('Position [Q to quit]? ')\n",
    "    if value == 'Q':\n",
    "        break\n",
    "    try: \n",
    "        position = int(value)\n",
    "        print(short_list[position])\n",
    "    except IndexError as err:\n",
    "        print('Bad index:', position)\n",
    "    except Exception as other:\n",
    "        print('Something else broke:', other)"
   ]
  },
  {
   "cell_type": "code",
   "execution_count": 41,
   "id": "ce03020c",
   "metadata": {},
   "outputs": [
    {
     "name": "stdout",
     "output_type": "stream",
     "text": [
      "just right\n"
     ]
    }
   ],
   "source": [
    "#Things to do (Exercise)\n",
    "#chapter 4.1\n",
    "guess_me = 7 \n",
    "if guess_me <7:\n",
    "    print('too low')\n",
    "elif guess_me >7:\n",
    "    print('too high')\n",
    "else:\n",
    "    print('just right')"
   ]
  },
  {
   "cell_type": "code",
   "execution_count": 44,
   "id": "6c0b6c15",
   "metadata": {},
   "outputs": [
    {
     "name": "stdout",
     "output_type": "stream",
     "text": [
      "too low\n",
      "too low\n",
      "too low\n",
      "too low\n",
      "too low\n",
      "too low\n",
      "found it!!!!\n",
      "3\n",
      "2\n",
      "1\n",
      "0\n"
     ]
    }
   ],
   "source": [
    "#4.2\n",
    "guess_me = 7 \n",
    "start = 1 \n",
    "while True:\n",
    "    if start < guess_me:\n",
    "        print('too low')\n",
    "    elif start == guess_me:\n",
    "        print('found it!!!!')\n",
    "        break\n",
    "    elif start > guess_me:\n",
    "        print('ooooppssyyyy')\n",
    "        break\n",
    "    start += 1\n",
    "\n",
    "#4.3\n",
    "for value in [3,2,1,0]:\n",
    "    print(value)"
   ]
  },
  {
   "cell_type": "code",
   "execution_count": 53,
   "id": "36d1e9f7",
   "metadata": {},
   "outputs": [
    {
     "name": "stdout",
     "output_type": "stream",
     "text": [
      "Got 0\n",
      "Got 1\n",
      "Got 2\n",
      "Got 3\n",
      "Got 4\n",
      "Got 5\n",
      "Got 6\n",
      "Got 7\n",
      "Got 8\n",
      "Got 9\n",
      "The third odd number is 5\n"
     ]
    }
   ],
   "source": [
    "#4.4\n",
    "even_numbers = [number for number in range(10) if number %2 == 0]\n",
    "even_numbers\n",
    "#4.7 \n",
    "for thing in ('Got %s' % number for number in range(10)):\n",
    "    print(thing)\n",
    "#4.8\n",
    "def good():\n",
    "    return ['Harry', 'Ron', 'Hermione']\n",
    "good()\n",
    "#4.9\n",
    "def get_odds():\n",
    "    for number in range(1, 10, 2):\n",
    "        yield number\n",
    "count = 1 \n",
    "for number in get_odds():\n",
    "    if count == 3: \n",
    "        print(\"The third odd number is\", number)\n",
    "        break\n",
    "    count +=1"
   ]
  },
  {
   "cell_type": "code",
   "execution_count": 58,
   "id": "186925fc",
   "metadata": {},
   "outputs": [
    {
     "name": "stdout",
     "output_type": "stream",
     "text": [
      "start\n",
      "Greetings, be to you\n",
      "end\n"
     ]
    }
   ],
   "source": [
    "def test(function):\n",
    "    def new_function(*args, **kwargs):\n",
    "        print('start')\n",
    "        result = function(*args, **kwargs)\n",
    "        print('end')\n",
    "        return result\n",
    "    return new_function\n",
    "\n",
    "@test\n",
    "def greeting():\n",
    "    print(\"Greetings, be to you\")\n",
    "greeting()"
   ]
  },
  {
   "cell_type": "code",
   "execution_count": 62,
   "id": "7db52d98",
   "metadata": {},
   "outputs": [
    {
     "data": {
      "text/plain": [
       "{'Creature of Habit': 'A nun turns into a monster',\n",
       " 'Crewel Fate': ' A haunted yarn shop'}"
      ]
     },
     "execution_count": 62,
     "metadata": {},
     "output_type": "execute_result"
    }
   ],
   "source": [
    "#4.12\n",
    "titles = ['Creature of Habit', 'Crewel Fate']\n",
    "plots = ['A nun turns into a monster', ' A haunted yarn shop']\n",
    "movies = dict(zip(titles, plots))\n",
    "movies"
   ]
  },
  {
   "cell_type": "code",
   "execution_count": 68,
   "id": "d4a4ae2b",
   "metadata": {},
   "outputs": [
    {
     "data": {
      "text/plain": [
       "'snow'"
      ]
     },
     "execution_count": 68,
     "metadata": {},
     "output_type": "execute_result"
    }
   ],
   "source": [
    "import random \n",
    "def get_description():\n",
    "    possibilities = ['rain', 'snow', 'sleet', 'fog', 'sun', 'who knows']\n",
    "    return random.choice(possibilities)\n",
    "get_description()\n",
    "get_description()"
   ]
  },
  {
   "cell_type": "code",
   "execution_count": 71,
   "id": "d541789c",
   "metadata": {},
   "outputs": [
    {
     "name": "stdout",
     "output_type": "stream",
     "text": [
      "{'Hydogen': 1, 'Helium': 2}\n"
     ]
    }
   ],
   "source": [
    "periodic_table = {'Hydogen': 1, 'Helium': 2}\n",
    "print(periodic_table)"
   ]
  },
  {
   "cell_type": "code",
   "execution_count": 81,
   "id": "30270020",
   "metadata": {},
   "outputs": [
    {
     "ename": "SyntaxError",
     "evalue": "invalid syntax (2310303087.py, line 5)",
     "output_type": "error",
     "traceback": [
      "\u001b[1;36m  File \u001b[1;32m\"C:\\Users\\hasan\\AppData\\Local\\Temp\\ipykernel_10176\\2310303087.py\"\u001b[1;36m, line \u001b[1;32m5\u001b[0m\n\u001b[1;33m    print ('The mighty hunter: ' hunter.name)\u001b[0m\n\u001b[1;37m                                 ^\u001b[0m\n\u001b[1;31mSyntaxError\u001b[0m\u001b[1;31m:\u001b[0m invalid syntax\n"
     ]
    }
   ],
   "source": [
    "class Person():\n",
    "    def _init__(self, name):\n",
    "        self.name = name\n",
    "hunter = Person('Hasan Urlu')\n",
    "print ('The mighty hunter: ' hunter.name)"
   ]
  },
  {
   "cell_type": "code",
   "execution_count": 83,
   "id": "ea4a0652",
   "metadata": {},
   "outputs": [
    {
     "name": "stdout",
     "output_type": "stream",
     "text": [
      "inside the getter\n"
     ]
    },
    {
     "ename": "AttributeError",
     "evalue": "'Duck' object has no attribute '_Duck__name'",
     "output_type": "error",
     "traceback": [
      "\u001b[1;31m---------------------------------------------------------------------------\u001b[0m",
      "\u001b[1;31mAttributeError\u001b[0m                            Traceback (most recent call last)",
      "\u001b[1;32m~\\AppData\\Local\\Temp\\ipykernel_10176\\4015409410.py\u001b[0m in \u001b[0;36m<module>\u001b[1;34m\u001b[0m\n\u001b[0;32m     11\u001b[0m         \u001b[0mself\u001b[0m\u001b[1;33m.\u001b[0m\u001b[0m__name\u001b[0m \u001b[1;33m=\u001b[0m \u001b[0minput_name\u001b[0m\u001b[1;33m\u001b[0m\u001b[1;33m\u001b[0m\u001b[0m\n\u001b[0;32m     12\u001b[0m \u001b[0mfowl\u001b[0m \u001b[1;33m=\u001b[0m \u001b[0mDuck\u001b[0m\u001b[1;33m(\u001b[0m\u001b[1;34m'Howard'\u001b[0m\u001b[1;33m)\u001b[0m\u001b[1;33m\u001b[0m\u001b[1;33m\u001b[0m\u001b[0m\n\u001b[1;32m---> 13\u001b[1;33m \u001b[0mfowl\u001b[0m\u001b[1;33m.\u001b[0m\u001b[0mname\u001b[0m\u001b[1;33m\u001b[0m\u001b[1;33m\u001b[0m\u001b[0m\n\u001b[0m",
      "\u001b[1;32m~\\AppData\\Local\\Temp\\ipykernel_10176\\4015409410.py\u001b[0m in \u001b[0;36mname\u001b[1;34m(self)\u001b[0m\n\u001b[0;32m      5\u001b[0m     \u001b[1;32mdef\u001b[0m \u001b[0mname\u001b[0m\u001b[1;33m(\u001b[0m\u001b[0mself\u001b[0m\u001b[1;33m)\u001b[0m\u001b[1;33m:\u001b[0m\u001b[1;33m\u001b[0m\u001b[1;33m\u001b[0m\u001b[0m\n\u001b[0;32m      6\u001b[0m         \u001b[0mprint\u001b[0m\u001b[1;33m(\u001b[0m\u001b[1;34m'inside the getter'\u001b[0m\u001b[1;33m)\u001b[0m\u001b[1;33m\u001b[0m\u001b[1;33m\u001b[0m\u001b[0m\n\u001b[1;32m----> 7\u001b[1;33m         \u001b[1;32mreturn\u001b[0m \u001b[0mself\u001b[0m\u001b[1;33m.\u001b[0m\u001b[0m__name\u001b[0m\u001b[1;33m\u001b[0m\u001b[1;33m\u001b[0m\u001b[0m\n\u001b[0m\u001b[0;32m      8\u001b[0m     \u001b[1;33m@\u001b[0m\u001b[0mname\u001b[0m\u001b[1;33m.\u001b[0m\u001b[0msetter\u001b[0m\u001b[1;33m\u001b[0m\u001b[1;33m\u001b[0m\u001b[0m\n\u001b[0;32m      9\u001b[0m     \u001b[1;32mdef\u001b[0m \u001b[0mname\u001b[0m\u001b[1;33m(\u001b[0m\u001b[0mself\u001b[0m\u001b[1;33m,\u001b[0m \u001b[0minput_name\u001b[0m\u001b[1;33m)\u001b[0m\u001b[1;33m:\u001b[0m\u001b[1;33m\u001b[0m\u001b[1;33m\u001b[0m\u001b[0m\n",
      "\u001b[1;31mAttributeError\u001b[0m: 'Duck' object has no attribute '_Duck__name'"
     ]
    }
   ],
   "source": [
    "class Duck():\n",
    "    def __init__(self, input_name):\n",
    "        self._name = input_name\n",
    "    @property\n",
    "    def name(self):\n",
    "        print('inside the getter')\n",
    "        return self.__name\n",
    "    @name.setter\n",
    "    def name(self, input_name):\n",
    "        print('inside the setter')\n",
    "        self.__name = input_name\n",
    "fowl = Duck('Howard')\n",
    "fowl.name"
   ]
  },
  {
   "cell_type": "code",
   "execution_count": 89,
   "id": "c6335dab",
   "metadata": {},
   "outputs": [
    {
     "name": "stdout",
     "output_type": "stream",
     "text": [
      "value=\"A\", name=\"LATIN CAPITAL LETTER A\", value2=\"A\"\n"
     ]
    },
    {
     "data": {
      "text/plain": [
       "'Our cat Chester weighs 28 pounds'"
      ]
     },
     "execution_count": 89,
     "metadata": {},
     "output_type": "execute_result"
    }
   ],
   "source": [
    "def unicode_test(value):\n",
    "    import unicodedata\n",
    "    name = unicodedata.name(value)\n",
    "    value2 = unicodedata.lookup(name)\n",
    "    print('value=\"%s\", name=\"%s\", value2=\"%s\"' % (value, name, value2))\n",
    "unicode_test('A')\n",
    "\n",
    "actor = \"Hasan Urlu\"\n",
    "cat = 'Chester'\n",
    "weight = 28\n",
    "\"My wife's favourite actor is %s\" % actor\n",
    "\"Our cat %s weighs %s pounds\" % (cat, weight)"
   ]
  },
  {
   "cell_type": "code",
   "execution_count": 8,
   "id": "5f02963f",
   "metadata": {},
   "outputs": [
    {
     "name": "stdout",
     "output_type": "stream",
     "text": [
      "You\n",
      "Frank\n",
      "Young Frank\n",
      "Found 4 matches\n"
     ]
    },
    {
     "data": {
      "text/plain": [
       "'You/g Fra/ke/stei/'"
      ]
     },
     "execution_count": 8,
     "metadata": {},
     "output_type": "execute_result"
    }
   ],
   "source": [
    "#Does the string 'Young Frankenstein' begin with the word 'You'?\n",
    "\n",
    "import re\n",
    "source = 'Young Frankenstein'\n",
    "m = re.match('You', source)\n",
    "if m:\n",
    "    print(m.group())\n",
    "#here we use re.search() fucntion since 'frank' is not at the \n",
    "#start of the pattern but is the second word\n",
    "m = re.search('Frank', source)\n",
    "if m:\n",
    "    print(m.group())\n",
    "m = re.match('.*Frank', source)\n",
    "if m: \n",
    "    print(m.group())\n",
    "m = re.findall('n', source)\n",
    "m\n",
    "print('Found', len(m), 'matches')\n",
    "m = re.split('n', source)\n",
    "m = re.sub('n', '/', source)\n",
    "m"
   ]
  },
  {
   "cell_type": "code",
   "execution_count": 13,
   "id": "bf22ba58",
   "metadata": {},
   "outputs": [
    {
     "data": {
      "text/plain": [
       "[]"
      ]
     },
     "execution_count": 13,
     "metadata": {},
     "output_type": "execute_result"
    }
   ],
   "source": [
    "source = '''How much wood would\n",
    "a woodchuck chuck if a woodchuck could chuck wood?'''\n",
    "\n",
    "re.findall('wood', source)\n",
    "re.findall('wood|chuck', source)\n",
    "re.findall('^much wood', source)\n",
    "#'^ is an anchor to search for the word at the start\n",
    "# and $ is an anchor to search fot the word at the end'"
   ]
  },
  {
   "cell_type": "code",
   "execution_count": 17,
   "id": "107da553",
   "metadata": {},
   "outputs": [
    {
     "ename": "SyntaxError",
     "evalue": "invalid syntax (4127430033.py, line 2)",
     "output_type": "error",
     "traceback": [
      "\u001b[1;36m  File \u001b[1;32m\"C:\\Users\\hasan\\AppData\\Local\\Temp\\ipykernel_8044\\4127430033.py\"\u001b[1;36m, line \u001b[1;32m2\u001b[0m\n\u001b[1;33m    valid_png_header = b '\\x89PNG\\r\\n\\x1a\\n'\u001b[0m\n\u001b[1;37m                         ^\u001b[0m\n\u001b[1;31mSyntaxError\u001b[0m\u001b[1;31m:\u001b[0m invalid syntax\n"
     ]
    }
   ],
   "source": [
    "import struct\n",
    "valid_png_header = b '\\x89PNG\\r\\n\\x1a\\n'\n",
    "data = b '\\x89PNG\\r\\n\\x1a\\n\\x00\\x00\\x00\\rIHDR' + \\\n",
    "    b '\\x00\\x00\\x00\\x9a\\x00\\x00\\x00\\x8d\\x08\\x02\\x00\\x00\\x00\\xc0'\n",
    "if data[:8] == valid_png_header: \n",
    "     width, height = struct.unpack('>LL', data[16:24])\n",
    "     print('Valid PNG, width', width, 'height', height)\n",
    "else:\n",
    "     print('Not a valid PNG')"
   ]
  },
  {
   "cell_type": "code",
   "execution_count": 18,
   "id": "39f718d9",
   "metadata": {},
   "outputs": [
    {
     "name": "stdout",
     "output_type": "stream",
     "text": [
      "\n",
      "my kitty cat likes roast beef,\n",
      "my kitty cat likes fish,\n",
      "my kitty cat fell on his bed\n",
      "and now thinks he's a bird.\n"
     ]
    }
   ],
   "source": [
    "#Things to do chapter 7\n",
    "#7.4\n",
    "poem = '''\n",
    "my kitty cat likes %s,\n",
    "my kitty cat likes %s,\n",
    "my kitty cat fell on his %s\n",
    "and now thinks he's a %s.'''\n",
    "args = ('roast beef', 'fish', 'bed', 'bird')\n",
    "print(poem%args)"
   ]
  },
  {
   "cell_type": "code",
   "execution_count": 22,
   "id": "2456c438",
   "metadata": {},
   "outputs": [
    {
     "name": "stdout",
     "output_type": "stream",
     "text": [
      "\n",
      "Dear selam isim,\n",
      "Thank you for your letter. We are sorry that our urun sozlu in your\n",
      "oda. Please note that it should never be used in a oda, especially\n",
      "near any hayvanlar.\n",
      "Send us your receipt and miktar for shipping and handling. We will send\n",
      "you another urun that, in our tests, is yuzde bir bucuk 1.5% less likely to\n",
      "have sozlu.\n",
      "Thank you for your support.\n",
      "Sincerely,\n",
      "sozcu\n",
      "is unvani\n",
      "\n"
     ]
    }
   ],
   "source": [
    "#7.6 Make a dictionary called response with values for the string keys\n",
    "\n",
    "letter = '''\n",
    "Dear {salutation} {name},\n",
    "Thank you for your letter. We are sorry that our {product} {verbed} in your\n",
    "{room}. Please note that it should never be used in a {room}, especially\n",
    "near any {animals}.\n",
    "Send us your receipt and {amount} for shipping and handling. We will send\n",
    "you another {product} that, in our tests, is {percent}% less likely to\n",
    "have {verbed}.\n",
    "Thank you for your support.\n",
    "Sincerely,\n",
    "{spokesman}\n",
    "{job_title}\n",
    "'''\n",
    "\n",
    "response = {\n",
    "    'salutation': 'selam',\n",
    "    'name': 'isim',\n",
    "    'product': 'urun',\n",
    "    'verbed': 'sozlu',\n",
    "    'room': 'oda',\n",
    "    'animals': 'hayvanlar',\n",
    "    'amount': 'miktar',\n",
    "    'percent': 'yuzde bir bucuk 1.5',\n",
    "    'spokesman': 'sozcu',\n",
    "    'job_title': 'is unvani'\n",
    "}\n",
    "\n",
    "print(letter.format(**response))\n"
   ]
  },
  {
   "cell_type": "code",
   "execution_count": 33,
   "id": "c5579352",
   "metadata": {},
   "outputs": [
    {
     "data": {
      "text/plain": [
       "145"
      ]
     },
     "execution_count": 33,
     "metadata": {},
     "output_type": "execute_result"
    }
   ],
   "source": [
    "#write a text file with write\n",
    "poem = '''\n",
    "There was a man named bright, \n",
    "whose speed was far faster than light;\n",
    "she started one day\n",
    "in a relative way, \n",
    "and returned on the previous night'''\n",
    "len(poem)\n",
    "\n",
    "#the following code will write the entire poem to the file\n",
    "#'relatively' in one call:\n",
    "fout = open('relatively', 'wt')\n",
    "fout.write(poem)\n",
    "fout.close()\n",
    "\n",
    "fout = open('relatively', 'wt')\n",
    "print(poem, file = fout, sep = '', end = '')\n",
    "fout.close()\n",
    "\n",
    "fin = open('relatively', 'rt')\n",
    "poem = fin.read()\n",
    "fin.close()\n",
    "len(poem)\n"
   ]
  },
  {
   "cell_type": "code",
   "execution_count": 35,
   "id": "bc648b6c",
   "metadata": {},
   "outputs": [
    {
     "name": "stdout",
     "output_type": "stream",
     "text": [
      "6 lines read\n",
      "\n",
      "There was a man named bright, \n",
      "whose speed was far faster than light;\n",
      "she started one day\n",
      "in a relative way, \n",
      "and returned on the previous night"
     ]
    }
   ],
   "source": [
    "fin = open('relatively', 'rt')\n",
    "lines = fin.readlines()\n",
    "fin.close()\n",
    "print(len(lines), 'lines read')\n",
    "for line in lines:\n",
    "    print(line, end = '')"
   ]
  },
  {
   "cell_type": "code",
   "execution_count": 38,
   "id": "8dd8d9cf",
   "metadata": {},
   "outputs": [
    {
     "data": {
      "text/plain": [
       "'{\"breakfast\": {\"hours\": \"7-11\", \"items\": {\"breakfast burritos\": \"$60.00\", \"pancakes\": \"$41.00\"}}, \"lunch\": {\"hours\": \"11-3\", \"items\": {\"hamburger\": \"$5.45\"}}}'"
      ]
     },
     "execution_count": 38,
     "metadata": {},
     "output_type": "execute_result"
    }
   ],
   "source": [
    "menu = \\\n",
    "{\n",
    "'breakfast': {\n",
    "            'hours': '7-11',\n",
    "            'items': {\n",
    "                    'breakfast burritos': '$60.00',\n",
    "                    'pancakes': '$41.00'\n",
    "             }\n",
    "    },\n",
    "'lunch': {\n",
    "        'hours': '11-3',\n",
    "        'items': {\n",
    "                'hamburger': '$5.45'\n",
    "                }\n",
    "    },\n",
    "}\n",
    "menu\n",
    "\n",
    "#next we encode the data structure to a JSON string\n",
    "import json \n",
    "menu_json = json.dumps(menu)\n",
    "menu_json\n",
    "#if we want to convert it back into the python structure,\n",
    "#menu2 = json.loads(menu_json)"
   ]
  },
  {
   "cell_type": "code",
   "execution_count": 45,
   "id": "9e64124b",
   "metadata": {},
   "outputs": [
    {
     "data": {
      "text/plain": [
       "'1683725081'"
      ]
     },
     "execution_count": 45,
     "metadata": {},
     "output_type": "execute_result"
    }
   ],
   "source": [
    "import datetime\n",
    "#now = datetime.datetime.utcnow()\n",
    "#now\n",
    "#json.dumps(now) # this format is not seriable for the json format\n",
    "\n",
    "now_str = str(now)\n",
    "json.dumps(now_str)\n",
    "from time import mktime\n",
    "now_epoch = int(mktime(now.timetuple()))\n",
    "json.dumps(now_epoch)\n",
    "\n"
   ]
  },
  {
   "cell_type": "markdown",
   "id": "77b40d2b",
   "metadata": {},
   "source": [
    "# The datetime module"
   ]
  },
  {
   "cell_type": "code",
   "execution_count": 63,
   "id": "17957b19",
   "metadata": {},
   "outputs": [
    {
     "data": {
      "text/plain": [
       "'2023-05-10'"
      ]
     },
     "execution_count": 63,
     "metadata": {},
     "output_type": "execute_result"
    }
   ],
   "source": [
    "from datetime import date\n",
    "halloween = date(2022, 10, 31)\n",
    "halloween.day #.month, .year\n",
    "halloween.isoformat()\n",
    "\n",
    "from datetime import date\n",
    "now = date.today()\n",
    "now\n",
    "\n",
    "from datetime import timedelta \n",
    "one_day = timedelta(days=1)\n",
    "tomorrow = now + one_day\n",
    "tomorrow\n",
    "now + 100*one_day\n",
    "yesterday = now - one_day\n",
    "yesterday\n",
    "\n",
    "from datetime import time\n",
    "noon = time(12, 0 , 0)\n",
    "now.isoformat()\n"
   ]
  },
  {
   "cell_type": "code",
   "execution_count": 64,
   "id": "3d3300cd",
   "metadata": {},
   "outputs": [
    {
     "data": {
      "text/plain": [
       "'2023-05-10\\n'"
      ]
     },
     "execution_count": 64,
     "metadata": {},
     "output_type": "execute_result"
    }
   ],
   "source": [
    "#exercises\n",
    "#10.1 write the current date as a string to the text file today.txt\n",
    "\n",
    "from datetime import date\n",
    "now = date.today()\n",
    "now_str = now.isoformat()\n",
    "with open('today', 'wt') as output: \n",
    "    print(now_str, file = output)\n",
    "\n",
    "#10.2 here we read the text file into the string. \n",
    "with open('today', 'rt') as input:\n",
    "    today_string = input.read()\n",
    "today_string\n",
    "    "
   ]
  },
  {
   "cell_type": "code",
   "execution_count": null,
   "id": "1408e15a",
   "metadata": {},
   "outputs": [
    {
     "name": "stdout",
     "output_type": "stream",
     "text": [
      "washing salad dish\n",
      "washing bread dish\n",
      "washing entree dish\n",
      "washing dessert dish\n"
     ]
    }
   ],
   "source": [
    "import multiprocessing as mp \n",
    "\n",
    "def washer(dishes, output):\n",
    "    for dish in dishes:\n",
    "        print('washing', dish, 'dish')\n",
    "        output.put(dish)\n",
    "def dryer(input):\n",
    "    while True:\n",
    "        dish = input.get()\n",
    "        print('drying', dish, 'dish')\n",
    "        input.task_done()\n",
    "\n",
    "dish_queue = mp.JoinableQueue()\n",
    "dryer_proc = mp.Process(target=dryer, args=(dish_queue,))\n",
    "dryer_proc.daemon = True\n",
    "dryer_proc.start()\n",
    "\n",
    "dishes = ['salad', 'bread', 'entree', 'dessert']\n",
    "washer(dishes, dish_queue)\n",
    "dish_queue.join()"
   ]
  },
  {
   "cell_type": "code",
   "execution_count": null,
   "id": "ee0915ba",
   "metadata": {},
   "outputs": [],
   "source": [
    "import threading\n",
    "\n",
    "def do_this(what):\n",
    "    whoami(what)\n",
    "def whoami(what):\n",
    "    print('thread %s says %s' % (threading.current_thread(), what))\n",
    "if __name__ == \"__main__\":\n",
    "    whoami(\"I'm the main program\")\n",
    "    for n in range (4):\n",
    "        p = threading.Thread(target=do_this,\n",
    "            args=(\"I'm function %s\" % n,))\n",
    "        p.start()"
   ]
  }
 ],
 "metadata": {
  "kernelspec": {
   "display_name": "Python 3 (ipykernel)",
   "language": "python",
   "name": "python3"
  },
  "language_info": {
   "codemirror_mode": {
    "name": "ipython",
    "version": 3
   },
   "file_extension": ".py",
   "mimetype": "text/x-python",
   "name": "python",
   "nbconvert_exporter": "python",
   "pygments_lexer": "ipython3",
   "version": "3.9.13"
  }
 },
 "nbformat": 4,
 "nbformat_minor": 5
}
